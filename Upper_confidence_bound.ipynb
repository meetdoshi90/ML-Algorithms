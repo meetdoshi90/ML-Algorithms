{
 "cells": [
  {
   "cell_type": "code",
   "execution_count": 1,
   "id": "b108e00a",
   "metadata": {},
   "outputs": [],
   "source": [
    "import numpy as np\n",
    "import pandas as pd\n",
    "import matplotlib.pyplot as plt"
   ]
  },
  {
   "cell_type": "code",
   "execution_count": 2,
   "id": "97981c75",
   "metadata": {},
   "outputs": [],
   "source": [
    "dataset = pd.read_csv(r'C:\\Users\\meetd\\OneDrive\\Desktop\\Datasets\\ads-CTR-optimisation\\Ads_CTR_Optimisation.csv')"
   ]
  },
  {
   "cell_type": "code",
   "execution_count": 3,
   "id": "f25f9c04",
   "metadata": {},
   "outputs": [
    {
     "name": "stdout",
     "output_type": "stream",
     "text": [
      "[0, 0, 0, 0, 0, 0, 0, 0, 0, 0]\n"
     ]
    }
   ],
   "source": [
    "import math\n",
    "N = 10000\n",
    "d = 10\n",
    "ads_selected = []\n",
    "number_of_selections = [0] * d\n",
    "sums_of_rewards = [0] * d\n",
    "total_reward = 0\n",
    "print(number_of_selections)"
   ]
  },
  {
   "cell_type": "code",
   "execution_count": 4,
   "id": "aacf1847",
   "metadata": {},
   "outputs": [
    {
     "name": "stdout",
     "output_type": "stream",
     "text": [
      "[1, 0, 0, 0, 0, 0, 0, 0, 0, 0] 1 [1, 0, 0, 0, 0, 0, 0, 0, 0, 0] 1\n",
      "[1, 1, 0, 0, 0, 0, 0, 0, 0, 0] 0 [1, 0, 0, 0, 0, 0, 0, 0, 0, 0] 1\n",
      "[1, 1, 1, 0, 0, 0, 0, 0, 0, 0] 0 [1, 0, 0, 0, 0, 0, 0, 0, 0, 0] 1\n",
      "[1, 1, 1, 1, 0, 0, 0, 0, 0, 0] 0 [1, 0, 0, 0, 0, 0, 0, 0, 0, 0] 1\n",
      "[1, 1, 1, 1, 1, 0, 0, 0, 0, 0] 0 [1, 0, 0, 0, 0, 0, 0, 0, 0, 0] 1\n",
      "[1, 1, 1, 1, 1, 1, 0, 0, 0, 0] 0 [1, 0, 0, 0, 0, 0, 0, 0, 0, 0] 1\n",
      "[1, 1, 1, 1, 1, 1, 1, 0, 0, 0] 0 [1, 0, 0, 0, 0, 0, 0, 0, 0, 0] 1\n",
      "[1, 1, 1, 1, 1, 1, 1, 1, 0, 0] 0 [1, 0, 0, 0, 0, 0, 0, 0, 0, 0] 1\n",
      "[1, 1, 1, 1, 1, 1, 1, 1, 1, 0] 0 [1, 0, 0, 0, 0, 0, 0, 0, 0, 0] 1\n",
      "[1, 1, 1, 1, 1, 1, 1, 1, 1, 1] 0 [1, 0, 0, 0, 0, 0, 0, 0, 0, 0] 1\n",
      "[2, 1, 1, 1, 1, 1, 1, 1, 1, 1] 0 [1, 0, 0, 0, 0, 0, 0, 0, 0, 0] 1\n",
      "[2, 2, 1, 1, 1, 1, 1, 1, 1, 1] 0 [1, 0, 0, 0, 0, 0, 0, 0, 0, 0] 1\n",
      "[2, 2, 2, 1, 1, 1, 1, 1, 1, 1] 0 [1, 0, 0, 0, 0, 0, 0, 0, 0, 0] 1\n",
      "[2, 2, 2, 2, 1, 1, 1, 1, 1, 1] 0 [1, 0, 0, 0, 0, 0, 0, 0, 0, 0] 1\n",
      "[2, 2, 2, 2, 2, 1, 1, 1, 1, 1] 0 [1, 0, 0, 0, 0, 0, 0, 0, 0, 0] 1\n",
      "[2, 2, 2, 2, 2, 2, 1, 1, 1, 1] 0 [1, 0, 0, 0, 0, 0, 0, 0, 0, 0] 1\n",
      "[2, 2, 2, 2, 2, 2, 2, 1, 1, 1] 0 [1, 0, 0, 0, 0, 0, 0, 0, 0, 0] 1\n",
      "[2, 2, 2, 2, 2, 2, 2, 2, 1, 1] 0 [1, 0, 0, 0, 0, 0, 0, 0, 0, 0] 1\n",
      "[2, 2, 2, 2, 2, 2, 2, 2, 2, 1] 0 [1, 0, 0, 0, 0, 0, 0, 0, 0, 0] 1\n",
      "[2, 2, 2, 2, 2, 2, 2, 2, 2, 2] 0 [1, 0, 0, 0, 0, 0, 0, 0, 0, 0] 1\n",
      "[3, 2, 2, 2, 2, 2, 2, 2, 2, 2] 0 [1, 0, 0, 0, 0, 0, 0, 0, 0, 0] 1\n",
      "[4, 2, 2, 2, 2, 2, 2, 2, 2, 2] 0 [1, 0, 0, 0, 0, 0, 0, 0, 0, 0] 1\n",
      "[4, 3, 2, 2, 2, 2, 2, 2, 2, 2] 0 [1, 0, 0, 0, 0, 0, 0, 0, 0, 0] 1\n",
      "[4, 3, 3, 2, 2, 2, 2, 2, 2, 2] 0 [1, 0, 0, 0, 0, 0, 0, 0, 0, 0] 1\n",
      "[4, 3, 3, 3, 2, 2, 2, 2, 2, 2] 0 [1, 0, 0, 0, 0, 0, 0, 0, 0, 0] 1\n",
      "[4, 3, 3, 3, 3, 2, 2, 2, 2, 2] 0 [1, 0, 0, 0, 0, 0, 0, 0, 0, 0] 1\n",
      "[4, 3, 3, 3, 3, 3, 2, 2, 2, 2] 0 [1, 0, 0, 0, 0, 0, 0, 0, 0, 0] 1\n",
      "[4, 3, 3, 3, 3, 3, 3, 2, 2, 2] 0 [1, 0, 0, 0, 0, 0, 0, 0, 0, 0] 1\n",
      "[4, 3, 3, 3, 3, 3, 3, 3, 2, 2] 0 [1, 0, 0, 0, 0, 0, 0, 0, 0, 0] 1\n",
      "[4, 3, 3, 3, 3, 3, 3, 3, 3, 2] 1 [1, 0, 0, 0, 0, 0, 0, 0, 1, 0] 2\n",
      "[4, 3, 3, 3, 3, 3, 3, 3, 4, 2] 0 [1, 0, 0, 0, 0, 0, 0, 0, 1, 0] 2\n",
      "[4, 3, 3, 3, 3, 3, 3, 3, 4, 3] 0 [1, 0, 0, 0, 0, 0, 0, 0, 1, 0] 2\n",
      "[5, 3, 3, 3, 3, 3, 3, 3, 4, 3] 0 [1, 0, 0, 0, 0, 0, 0, 0, 1, 0] 2\n",
      "[5, 3, 3, 3, 3, 3, 3, 3, 5, 3] 0 [1, 0, 0, 0, 0, 0, 0, 0, 1, 0] 2\n",
      "[5, 4, 3, 3, 3, 3, 3, 3, 5, 3] 0 [1, 0, 0, 0, 0, 0, 0, 0, 1, 0] 2\n",
      "[5, 4, 4, 3, 3, 3, 3, 3, 5, 3] 0 [1, 0, 0, 0, 0, 0, 0, 0, 1, 0] 2\n",
      "[5, 4, 4, 4, 3, 3, 3, 3, 5, 3] 0 [1, 0, 0, 0, 0, 0, 0, 0, 1, 0] 2\n",
      "[5, 4, 4, 4, 4, 3, 3, 3, 5, 3] 0 [1, 0, 0, 0, 0, 0, 0, 0, 1, 0] 2\n",
      "[5, 4, 4, 4, 4, 4, 3, 3, 5, 3] 0 [1, 0, 0, 0, 0, 0, 0, 0, 1, 0] 2\n",
      "[5, 4, 4, 4, 4, 4, 4, 3, 5, 3] 1 [1, 0, 0, 0, 0, 0, 1, 0, 1, 0] 3\n",
      "[5, 4, 4, 4, 4, 4, 5, 3, 5, 3] 0 [1, 0, 0, 0, 0, 0, 1, 0, 1, 0] 3\n",
      "[5, 4, 4, 4, 4, 4, 5, 4, 5, 3] 1 [1, 0, 0, 0, 0, 0, 1, 1, 1, 0] 4\n",
      "[5, 4, 4, 4, 4, 4, 5, 5, 5, 3] 1 [1, 0, 0, 0, 0, 0, 1, 2, 1, 0] 5\n",
      "[5, 4, 4, 4, 4, 4, 5, 6, 5, 3] 0 [1, 0, 0, 0, 0, 0, 1, 2, 1, 0] 5\n",
      "[5, 4, 4, 4, 4, 4, 5, 6, 5, 4] 0 [1, 0, 0, 0, 0, 0, 1, 2, 1, 0] 5\n",
      "[5, 4, 4, 4, 4, 4, 5, 7, 5, 4] 0 [1, 0, 0, 0, 0, 0, 1, 2, 1, 0] 5\n",
      "[6, 4, 4, 4, 4, 4, 5, 7, 5, 4] 0 [1, 0, 0, 0, 0, 0, 1, 2, 1, 0] 5\n",
      "[6, 4, 4, 4, 4, 4, 6, 7, 5, 4] 0 [1, 0, 0, 0, 0, 0, 1, 2, 1, 0] 5\n",
      "[6, 4, 4, 4, 4, 4, 6, 7, 6, 4] 0 [1, 0, 0, 0, 0, 0, 1, 2, 1, 0] 5\n",
      "[6, 5, 4, 4, 4, 4, 6, 7, 6, 4] 0 [1, 0, 0, 0, 0, 0, 1, 2, 1, 0] 5\n",
      "[6, 5, 5, 4, 4, 4, 6, 7, 6, 4] 0 [1, 0, 0, 0, 0, 0, 1, 2, 1, 0] 5\n",
      "[6, 5, 5, 5, 4, 4, 6, 7, 6, 4] 0 [1, 0, 0, 0, 0, 0, 1, 2, 1, 0] 5\n",
      "[6, 5, 5, 5, 5, 4, 6, 7, 6, 4] 1 [1, 0, 0, 0, 1, 0, 1, 2, 1, 0] 6\n",
      "[6, 5, 5, 5, 6, 4, 6, 7, 6, 4] 1 [1, 0, 0, 0, 2, 0, 1, 2, 1, 0] 7\n",
      "[6, 5, 5, 5, 7, 4, 6, 7, 6, 4] 1 [1, 0, 0, 0, 3, 0, 1, 2, 1, 0] 8\n",
      "[6, 5, 5, 5, 8, 4, 6, 7, 6, 4] 0 [1, 0, 0, 0, 3, 0, 1, 2, 1, 0] 8\n",
      "[6, 5, 5, 5, 9, 4, 6, 7, 6, 4] 0 [1, 0, 0, 0, 3, 0, 1, 2, 1, 0] 8\n",
      "[6, 5, 5, 5, 9, 5, 6, 7, 6, 4] 0 [1, 0, 0, 0, 3, 0, 1, 2, 1, 0] 8\n",
      "[6, 5, 5, 5, 9, 5, 6, 7, 6, 5] 0 [1, 0, 0, 0, 3, 0, 1, 2, 1, 0] 8\n",
      "[6, 5, 5, 5, 9, 5, 6, 8, 6, 5] 0 [1, 0, 0, 0, 3, 0, 1, 2, 1, 0] 8\n",
      "[7, 5, 5, 5, 9, 5, 6, 8, 6, 5] 1 [2, 0, 0, 0, 3, 0, 1, 2, 1, 0] 9\n",
      "[8, 5, 5, 5, 9, 5, 6, 8, 6, 5] 0 [2, 0, 0, 0, 3, 0, 1, 2, 1, 0] 9\n",
      "[8, 5, 5, 5, 9, 5, 7, 8, 6, 5] 0 [2, 0, 0, 0, 3, 0, 1, 2, 1, 0] 9\n",
      "[8, 5, 5, 5, 9, 5, 7, 8, 7, 5] 0 [2, 0, 0, 0, 3, 0, 1, 2, 1, 0] 9\n",
      "[8, 5, 5, 5, 10, 5, 7, 8, 7, 5] 0 [2, 0, 0, 0, 3, 0, 1, 2, 1, 0] 9\n",
      "[9, 5, 5, 5, 10, 5, 7, 8, 7, 5] 0 [2, 0, 0, 0, 3, 0, 1, 2, 1, 0] 9\n",
      "[9, 5, 5, 5, 10, 5, 7, 9, 7, 5] 0 [2, 0, 0, 0, 3, 0, 1, 2, 1, 0] 9\n",
      "[9, 6, 5, 5, 10, 5, 7, 9, 7, 5] 1 [2, 1, 0, 0, 3, 0, 1, 2, 1, 0] 10\n",
      "[9, 7, 5, 5, 10, 5, 7, 9, 7, 5] 0 [2, 1, 0, 0, 3, 0, 1, 2, 1, 0] 10\n",
      "[9, 7, 6, 5, 10, 5, 7, 9, 7, 5] 0 [2, 1, 0, 0, 3, 0, 1, 2, 1, 0] 10\n",
      "[9, 7, 6, 6, 10, 5, 7, 9, 7, 5] 0 [2, 1, 0, 0, 3, 0, 1, 2, 1, 0] 10\n",
      "[9, 7, 6, 6, 10, 6, 7, 9, 7, 5] 0 [2, 1, 0, 0, 3, 0, 1, 2, 1, 0] 10\n",
      "[9, 7, 6, 6, 10, 6, 7, 9, 7, 6] 0 [2, 1, 0, 0, 3, 0, 1, 2, 1, 0] 10\n",
      "[9, 7, 6, 6, 11, 6, 7, 9, 7, 6] 0 [2, 1, 0, 0, 3, 0, 1, 2, 1, 0] 10\n",
      "[9, 8, 6, 6, 11, 6, 7, 9, 7, 6] 0 [2, 1, 0, 0, 3, 0, 1, 2, 1, 0] 10\n",
      "[9, 8, 6, 6, 11, 6, 8, 9, 7, 6] 0 [2, 1, 0, 0, 3, 0, 1, 2, 1, 0] 10\n",
      "[9, 8, 6, 6, 11, 6, 8, 9, 8, 6] 0 [2, 1, 0, 0, 3, 0, 1, 2, 1, 0] 10\n",
      "[10, 8, 6, 6, 11, 6, 8, 9, 8, 6] 0 [2, 1, 0, 0, 3, 0, 1, 2, 1, 0] 10\n",
      "[10, 8, 6, 6, 11, 6, 8, 10, 8, 6] 0 [2, 1, 0, 0, 3, 0, 1, 2, 1, 0] 10\n",
      "[10, 8, 7, 6, 11, 6, 8, 10, 8, 6] 0 [2, 1, 0, 0, 3, 0, 1, 2, 1, 0] 10\n",
      "[10, 8, 7, 7, 11, 6, 8, 10, 8, 6] 0 [2, 1, 0, 0, 3, 0, 1, 2, 1, 0] 10\n",
      "[10, 8, 7, 7, 11, 7, 8, 10, 8, 6] 0 [2, 1, 0, 0, 3, 0, 1, 2, 1, 0] 10\n",
      "[10, 8, 7, 7, 11, 7, 8, 10, 8, 7] 0 [2, 1, 0, 0, 3, 0, 1, 2, 1, 0] 10\n",
      "[10, 8, 7, 7, 12, 7, 8, 10, 8, 7] 0 [2, 1, 0, 0, 3, 0, 1, 2, 1, 0] 10\n",
      "[10, 9, 7, 7, 12, 7, 8, 10, 8, 7] 0 [2, 1, 0, 0, 3, 0, 1, 2, 1, 0] 10\n",
      "[10, 9, 7, 7, 12, 7, 9, 10, 8, 7] 0 [2, 1, 0, 0, 3, 0, 1, 2, 1, 0] 10\n",
      "[10, 9, 7, 7, 12, 7, 9, 10, 9, 7] 0 [2, 1, 0, 0, 3, 0, 1, 2, 1, 0] 10\n",
      "[11, 9, 7, 7, 12, 7, 9, 10, 9, 7] 0 [2, 1, 0, 0, 3, 0, 1, 2, 1, 0] 10\n",
      "[11, 9, 7, 7, 12, 7, 9, 11, 9, 7] 1 [2, 1, 0, 0, 3, 0, 1, 3, 1, 0] 11\n",
      "[11, 9, 7, 7, 12, 7, 9, 12, 9, 7] 1 [2, 1, 0, 0, 3, 0, 1, 4, 1, 0] 12\n",
      "[11, 9, 7, 7, 12, 7, 9, 13, 9, 7] 0 [2, 1, 0, 0, 3, 0, 1, 4, 1, 0] 12\n",
      "[11, 9, 7, 7, 12, 7, 9, 14, 9, 7] 1 [2, 1, 0, 0, 3, 0, 1, 5, 1, 0] 13\n",
      "[11, 9, 7, 7, 12, 7, 9, 15, 9, 7] 0 [2, 1, 0, 0, 3, 0, 1, 5, 1, 0] 13\n",
      "[11, 9, 7, 7, 12, 7, 9, 16, 9, 7] 0 [2, 1, 0, 0, 3, 0, 1, 5, 1, 0] 13\n",
      "[11, 9, 7, 7, 13, 7, 9, 16, 9, 7] 0 [2, 1, 0, 0, 3, 0, 1, 5, 1, 0] 13\n",
      "[11, 9, 8, 7, 13, 7, 9, 16, 9, 7] 0 [2, 1, 0, 0, 3, 0, 1, 5, 1, 0] 13\n",
      "[11, 9, 8, 8, 13, 7, 9, 16, 9, 7] 0 [2, 1, 0, 0, 3, 0, 1, 5, 1, 0] 13\n",
      "[11, 9, 8, 8, 13, 8, 9, 16, 9, 7] 0 [2, 1, 0, 0, 3, 0, 1, 5, 1, 0] 13\n",
      "[11, 9, 8, 8, 13, 8, 9, 16, 9, 8] 0 [2, 1, 0, 0, 3, 0, 1, 5, 1, 0] 13\n",
      "[11, 10, 8, 8, 13, 8, 9, 16, 9, 8] 0 [2, 1, 0, 0, 3, 0, 1, 5, 1, 0] 13\n"
     ]
    }
   ],
   "source": [
    "for n in range(0, N):\n",
    "    ad = 0\n",
    "    max_upper_bound = 0\n",
    "    for i in range(0, d):\n",
    "        if(number_of_selections[i] > 0):\n",
    "            average_reward = sums_of_rewards[i] / number_of_selections[i]\n",
    "            delta_i = math.sqrt(3/2 * math.log(n+1) / number_of_selections[i])\n",
    "            upper_bound = average_reward + delta_i\n",
    "        else:\n",
    "            upper_bound = 1e400\n",
    "        if(upper_bound > max_upper_bound):\n",
    "            max_upper_bound = upper_bound\n",
    "            ad = i\n",
    "    ads_selected.append(ad)\n",
    "    number_of_selections[ad] = number_of_selections[ad] + 1\n",
    "    reward = dataset.values[n, ad]\n",
    "    sums_of_rewards[ad] = sums_of_rewards[ad] + reward\n",
    "    total_reward = total_reward + reward\n",
    "    if(n<100):\n",
    "        print(number_of_selections, reward,sums_of_rewards, total_reward)"
   ]
  },
  {
   "cell_type": "code",
   "execution_count": 5,
   "id": "5468cd40",
   "metadata": {},
   "outputs": [
    {
     "data": {
      "image/png": "[encoded data removed]",
      "text/plain": [
       "<Figure size 432x288 with 1 Axes>"
      ]
     },
     "metadata": {
      "needs_background": "light"
     },
     "output_type": "display_data"
    }
   ],
   "source": [
    "plt.hist(ads_selected)\n",
    "plt.title(\"Histogram of Ads selections\")\n",
    "plt.xlabel('Ads')\n",
    "plt.ylabel('Number of times each ad was selected')\n",
    "plt.show()"
   ]
  },
  {
   "cell_type": "code",
   "execution_count": null,
   "id": "d82afdf2",
   "metadata": {},
   "outputs": [],
   "source": []
  }
 ],
 "metadata": {
  "kernelspec": {
   "display_name": "Python 3",
   "language": "python",
   "name": "python3"
  },
  "language_info": {
   "codemirror_mode": {
    "name": "ipython",
    "version": 3
   },
   "file_extension": ".py",
   "mimetype": "text/x-python",
   "name": "python",
   "nbconvert_exporter": "python",
   "pygments_lexer": "ipython3",
   "version": "3.8.3"
  }
 },
 "nbformat": 4,
 "nbformat_minor": 5
}
