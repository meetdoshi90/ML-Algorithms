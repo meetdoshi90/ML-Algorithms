{
 "cells": [
  {
   "cell_type": "code",
   "execution_count": 1,
   "id": "1529fb7a",
   "metadata": {},
   "outputs": [],
   "source": [
    "import numpy as np\n",
    "import pandas as pd\n",
    "import tensorflow as tf"
   ]
  },
  {
   "cell_type": "code",
   "execution_count": 2,
   "id": "4ba9f723",
   "metadata": {},
   "outputs": [
    {
     "data": {
      "text/plain": [
       "'2.4.0'"
      ]
     },
     "execution_count": 2,
     "metadata": {},
     "output_type": "execute_result"
    }
   ],
   "source": [
    "tf.__version__"
   ]
  },
  {
   "cell_type": "code",
   "execution_count": 3,
   "id": "7d50f020",
   "metadata": {},
   "outputs": [],
   "source": [
    "dataset = pd.read_csv(r'C:\\Users\\meetd\\OneDrive\\Desktop\\Datasets\\bank\\Churn_Modelling.csv')\n",
    "x = dataset.iloc[:, 3:-1].values\n",
    "y = dataset.iloc[:, -1].values"
   ]
  },
  {
   "cell_type": "code",
   "execution_count": 4,
   "id": "ec1bdd25",
   "metadata": {},
   "outputs": [
    {
     "name": "stdout",
     "output_type": "stream",
     "text": [
      "[[619 'France' 'Female' ... 1 1 101348.88]\n",
      " [608 'Spain' 'Female' ... 0 1 112542.58]\n",
      " [502 'France' 'Female' ... 1 0 113931.57]\n",
      " ...\n",
      " [709 'France' 'Female' ... 0 1 42085.58]\n",
      " [772 'Germany' 'Male' ... 1 0 92888.52]\n",
      " [792 'France' 'Female' ... 1 0 38190.78]]\n"
     ]
    }
   ],
   "source": [
    "print(x)"
   ]
  },
  {
   "cell_type": "code",
   "execution_count": 5,
   "id": "204adf3c",
   "metadata": {},
   "outputs": [
    {
     "name": "stdout",
     "output_type": "stream",
     "text": [
      "[1 0 1 ... 1 1 0]\n"
     ]
    }
   ],
   "source": [
    "print(y)"
   ]
  },
  {
   "cell_type": "code",
   "execution_count": 6,
   "id": "6ebe85fd",
   "metadata": {},
   "outputs": [],
   "source": [
    "from sklearn.preprocessing import LabelEncoder\n",
    "le = LabelEncoder()\n",
    "x[:, 2] = le.fit_transform(x[:, 2])"
   ]
  },
  {
   "cell_type": "code",
   "execution_count": 7,
   "id": "58a55d7d",
   "metadata": {},
   "outputs": [
    {
     "name": "stdout",
     "output_type": "stream",
     "text": [
      "[[619 'France' 0 ... 1 1 101348.88]\n",
      " [608 'Spain' 0 ... 0 1 112542.58]\n",
      " [502 'France' 0 ... 1 0 113931.57]\n",
      " ...\n",
      " [709 'France' 0 ... 0 1 42085.58]\n",
      " [772 'Germany' 1 ... 1 0 92888.52]\n",
      " [792 'France' 0 ... 1 0 38190.78]]\n"
     ]
    }
   ],
   "source": [
    "print(x[:,:])"
   ]
  },
  {
   "cell_type": "code",
   "execution_count": 8,
   "id": "96757781",
   "metadata": {},
   "outputs": [],
   "source": [
    "from sklearn.compose import ColumnTransformer\n",
    "from sklearn.preprocessing import OneHotEncoder\n",
    "ct = ColumnTransformer(transformers = [('encoder', OneHotEncoder(), [1])], remainder = 'passthrough')\n",
    "x = np.array(ct.fit_transform(x))"
   ]
  },
  {
   "cell_type": "code",
   "execution_count": 9,
   "id": "3fd6b54c",
   "metadata": {},
   "outputs": [
    {
     "name": "stdout",
     "output_type": "stream",
     "text": [
      "(10000, 12)\n"
     ]
    }
   ],
   "source": [
    "print(x.shape)"
   ]
  },
  {
   "cell_type": "code",
   "execution_count": 10,
   "id": "8ae66880",
   "metadata": {},
   "outputs": [],
   "source": [
    "from sklearn.model_selection import train_test_split\n",
    "x_train, x_test, y_train, y_test = train_test_split(x, y, test_size = 0.2, random_state=0)"
   ]
  },
  {
   "cell_type": "code",
   "execution_count": 11,
   "id": "bb921c89",
   "metadata": {},
   "outputs": [],
   "source": [
    "from sklearn.preprocessing import StandardScaler\n",
    "sc = StandardScaler()\n",
    "x_train = sc.fit_transform(x_train)\n",
    "x_test = sc.transform(x_test)"
   ]
  },
  {
   "cell_type": "code",
   "execution_count": 12,
   "id": "afb093dd",
   "metadata": {},
   "outputs": [],
   "source": [
    "ann = tf.keras.models.Sequential()"
   ]
  },
  {
   "cell_type": "code",
   "execution_count": 13,
   "id": "53d7f73a",
   "metadata": {},
   "outputs": [],
   "source": [
    "ann.add(tf.keras.layers.Dense(units=6, activation=\"relu\"))\n",
    "ann.add(tf.keras.layers.Dense(units=6, activation=\"relu\"))\n",
    "ann.add(tf.keras.layers.Dense(units=6, activation=\"relu\"))\n",
    "ann.add(tf.keras.layers.Dense(units=1, activation=\"sigmoid\"))"
   ]
  },
  {
   "cell_type": "code",
   "execution_count": 14,
   "id": "438a4cb3",
   "metadata": {},
   "outputs": [],
   "source": [
    "ann.compile(optimizer=\"adam\", loss=\"binary_crossentropy\", metrics=['accuracy'])"
   ]
  },
  {
   "cell_type": "code",
   "execution_count": 15,
   "id": "f1a32560",
   "metadata": {},
   "outputs": [
    {
     "name": "stdout",
     "output_type": "stream",
     "text": [
      "Epoch 1/100\n",
      "250/250 [==============================] - 1s 908us/step - loss: 0.5773 - accuracy: 0.7565\n",
      "Epoch 2/100\n",
      "250/250 [==============================] - 0s 731us/step - loss: 0.4728 - accuracy: 0.7995\n",
      "Epoch 3/100\n",
      "250/250 [==============================] - 0s 728us/step - loss: 0.4524 - accuracy: 0.7933\n",
      "Epoch 4/100\n",
      "250/250 [==============================] - 0s 767us/step - loss: 0.4151 - accuracy: 0.8124\n",
      "Epoch 5/100\n",
      "250/250 [==============================] - 0s 697us/step - loss: 0.3994 - accuracy: 0.8293\n",
      "Epoch 6/100\n",
      "250/250 [==============================] - 0s 703us/step - loss: 0.3737 - accuracy: 0.8416\n",
      "Epoch 7/100\n",
      "250/250 [==============================] - 0s 682us/step - loss: 0.3646 - accuracy: 0.8489\n",
      "Epoch 8/100\n",
      "250/250 [==============================] - 0s 811us/step - loss: 0.3671 - accuracy: 0.8452\n",
      "Epoch 9/100\n",
      "250/250 [==============================] - 0s 807us/step - loss: 0.3438 - accuracy: 0.8570\n",
      "Epoch 10/100\n",
      "250/250 [==============================] - 0s 691us/step - loss: 0.3532 - accuracy: 0.8554\n",
      "Epoch 11/100\n",
      "250/250 [==============================] - 0s 711us/step - loss: 0.3557 - accuracy: 0.8481\n",
      "Epoch 12/100\n",
      "250/250 [==============================] - 0s 715us/step - loss: 0.3424 - accuracy: 0.8594\n",
      "Epoch 13/100\n",
      "250/250 [==============================] - 0s 709us/step - loss: 0.3534 - accuracy: 0.8473\n",
      "Epoch 14/100\n",
      "250/250 [==============================] - 0s 775us/step - loss: 0.3473 - accuracy: 0.8589\n",
      "Epoch 15/100\n",
      "250/250 [==============================] - 0s 846us/step - loss: 0.3367 - accuracy: 0.8649\n",
      "Epoch 16/100\n",
      "250/250 [==============================] - 0s 799us/step - loss: 0.3364 - accuracy: 0.8599\n",
      "Epoch 17/100\n",
      "250/250 [==============================] - 0s 850us/step - loss: 0.3364 - accuracy: 0.8619\n",
      "Epoch 18/100\n",
      "250/250 [==============================] - 0s 783us/step - loss: 0.3409 - accuracy: 0.8602\n",
      "Epoch 19/100\n",
      "250/250 [==============================] - 0s 831us/step - loss: 0.3322 - accuracy: 0.8640\n",
      "Epoch 20/100\n",
      "250/250 [==============================] - 0s 884us/step - loss: 0.3342 - accuracy: 0.8669\n",
      "Epoch 21/100\n",
      "250/250 [==============================] - 0s 767us/step - loss: 0.3461 - accuracy: 0.8565\n",
      "Epoch 22/100\n",
      "250/250 [==============================] - 0s 743us/step - loss: 0.3354 - accuracy: 0.8664\n",
      "Epoch 23/100\n",
      "250/250 [==============================] - 0s 727us/step - loss: 0.3443 - accuracy: 0.8592\n",
      "Epoch 24/100\n",
      "250/250 [==============================] - 0s 781us/step - loss: 0.3296 - accuracy: 0.8645\n",
      "Epoch 25/100\n",
      "250/250 [==============================] - 0s 783us/step - loss: 0.3301 - accuracy: 0.8641\n",
      "Epoch 26/100\n",
      "250/250 [==============================] - 0s 799us/step - loss: 0.3223 - accuracy: 0.8687\n",
      "Epoch 27/100\n",
      "250/250 [==============================] - 0s 843us/step - loss: 0.3307 - accuracy: 0.8678\n",
      "Epoch 28/100\n",
      "250/250 [==============================] - 0s 799us/step - loss: 0.3390 - accuracy: 0.8613\n",
      "Epoch 29/100\n",
      "250/250 [==============================] - 0s 739us/step - loss: 0.3321 - accuracy: 0.8598\n",
      "Epoch 30/100\n",
      "250/250 [==============================] - 0s 711us/step - loss: 0.3405 - accuracy: 0.8608\n",
      "Epoch 31/100\n",
      "250/250 [==============================] - 0s 723us/step - loss: 0.3288 - accuracy: 0.8643\n",
      "Epoch 32/100\n",
      "250/250 [==============================] - 0s 691us/step - loss: 0.3420 - accuracy: 0.8581\n",
      "Epoch 33/100\n",
      "250/250 [==============================] - 0s 741us/step - loss: 0.3330 - accuracy: 0.8653\n",
      "Epoch 34/100\n",
      "250/250 [==============================] - 0s 780us/step - loss: 0.3381 - accuracy: 0.8644\n",
      "Epoch 35/100\n",
      "250/250 [==============================] - 0s 867us/step - loss: 0.3413 - accuracy: 0.8617\n",
      "Epoch 36/100\n",
      "250/250 [==============================] - 0s 908us/step - loss: 0.3323 - accuracy: 0.8671\n",
      "Epoch 37/100\n",
      "250/250 [==============================] - 0s 877us/step - loss: 0.3264 - accuracy: 0.8655\n",
      "Epoch 38/100\n",
      "250/250 [==============================] - 0s 679us/step - loss: 0.3330 - accuracy: 0.8654\n",
      "Epoch 39/100\n",
      "250/250 [==============================] - 0s 707us/step - loss: 0.3424 - accuracy: 0.8644\n",
      "Epoch 40/100\n",
      "250/250 [==============================] - 0s 763us/step - loss: 0.3377 - accuracy: 0.8637\n",
      "Epoch 41/100\n",
      "250/250 [==============================] - 0s 699us/step - loss: 0.3341 - accuracy: 0.8634\n",
      "Epoch 42/100\n",
      "250/250 [==============================] - 0s 699us/step - loss: 0.3234 - accuracy: 0.8698\n",
      "Epoch 43/100\n",
      "250/250 [==============================] - 0s 703us/step - loss: 0.3221 - accuracy: 0.8709\n",
      "Epoch 44/100\n",
      "250/250 [==============================] - 0s 698us/step - loss: 0.3432 - accuracy: 0.8580\n",
      "Epoch 45/100\n",
      "250/250 [==============================] - 0s 735us/step - loss: 0.3215 - accuracy: 0.8673\n",
      "Epoch 46/100\n",
      "250/250 [==============================] - 0s 707us/step - loss: 0.3337 - accuracy: 0.8629\n",
      "Epoch 47/100\n",
      "250/250 [==============================] - 0s 711us/step - loss: 0.3252 - accuracy: 0.8691\n",
      "Epoch 48/100\n",
      "250/250 [==============================] - 0s 663us/step - loss: 0.3319 - accuracy: 0.8653\n",
      "Epoch 49/100\n",
      "250/250 [==============================] - 0s 683us/step - loss: 0.3111 - accuracy: 0.8757\n",
      "Epoch 50/100\n",
      "250/250 [==============================] - 0s 695us/step - loss: 0.3471 - accuracy: 0.8577\n",
      "Epoch 51/100\n",
      "250/250 [==============================] - 0s 699us/step - loss: 0.3312 - accuracy: 0.8688\n",
      "Epoch 52/100\n",
      "250/250 [==============================] - 0s 693us/step - loss: 0.3324 - accuracy: 0.8671\n",
      "Epoch 53/100\n",
      "250/250 [==============================] - 0s 691us/step - loss: 0.3313 - accuracy: 0.8632\n",
      "Epoch 54/100\n",
      "250/250 [==============================] - 0s 693us/step - loss: 0.3166 - accuracy: 0.8726\n",
      "Epoch 55/100\n",
      "250/250 [==============================] - 0s 679us/step - loss: 0.3301 - accuracy: 0.8618\n",
      "Epoch 56/100\n",
      "250/250 [==============================] - 0s 715us/step - loss: 0.3307 - accuracy: 0.8612\n",
      "Epoch 57/100\n",
      "250/250 [==============================] - 0s 683us/step - loss: 0.3287 - accuracy: 0.8655\n",
      "Epoch 58/100\n",
      "250/250 [==============================] - 0s 683us/step - loss: 0.3257 - accuracy: 0.8725\n",
      "Epoch 59/100\n",
      "250/250 [==============================] - 0s 687us/step - loss: 0.3269 - accuracy: 0.8647\n",
      "Epoch 60/100\n",
      "250/250 [==============================] - 0s 663us/step - loss: 0.3357 - accuracy: 0.8612\n",
      "Epoch 61/100\n",
      "250/250 [==============================] - 0s 685us/step - loss: 0.3342 - accuracy: 0.8634\n",
      "Epoch 62/100\n",
      "250/250 [==============================] - 0s 683us/step - loss: 0.3324 - accuracy: 0.8636\n",
      "Epoch 63/100\n",
      "250/250 [==============================] - 0s 707us/step - loss: 0.3201 - accuracy: 0.8675\n",
      "Epoch 64/100\n",
      "250/250 [==============================] - 0s 695us/step - loss: 0.3293 - accuracy: 0.8634\n",
      "Epoch 65/100\n",
      "250/250 [==============================] - 0s 669us/step - loss: 0.3264 - accuracy: 0.8635\n",
      "Epoch 66/100\n",
      "250/250 [==============================] - 0s 711us/step - loss: 0.3256 - accuracy: 0.8650\n",
      "Epoch 67/100\n",
      "250/250 [==============================] - 0s 675us/step - loss: 0.3304 - accuracy: 0.8650\n",
      "Epoch 68/100\n",
      "250/250 [==============================] - 0s 711us/step - loss: 0.3312 - accuracy: 0.8663\n",
      "Epoch 69/100\n",
      "250/250 [==============================] - 0s 731us/step - loss: 0.3311 - accuracy: 0.8625\n",
      "Epoch 70/100\n",
      "250/250 [==============================] - 0s 679us/step - loss: 0.3255 - accuracy: 0.8655\n",
      "Epoch 71/100\n",
      "250/250 [==============================] - 0s 647us/step - loss: 0.3289 - accuracy: 0.8636\n",
      "Epoch 72/100\n",
      "250/250 [==============================] - 0s 655us/step - loss: 0.3277 - accuracy: 0.8620\n",
      "Epoch 73/100\n",
      "250/250 [==============================] - 0s 671us/step - loss: 0.3206 - accuracy: 0.8640\n",
      "Epoch 74/100\n",
      "250/250 [==============================] - 0s 687us/step - loss: 0.3284 - accuracy: 0.8640\n",
      "Epoch 75/100\n",
      "250/250 [==============================] - 0s 664us/step - loss: 0.3357 - accuracy: 0.8625\n",
      "Epoch 76/100\n",
      "250/250 [==============================] - 0s 667us/step - loss: 0.3239 - accuracy: 0.8662\n",
      "Epoch 77/100\n",
      "250/250 [==============================] - 0s 668us/step - loss: 0.3150 - accuracy: 0.8700\n",
      "Epoch 78/100\n",
      "250/250 [==============================] - 0s 659us/step - loss: 0.3280 - accuracy: 0.8652\n",
      "Epoch 79/100\n"
     ]
    },
    {
     "name": "stdout",
     "output_type": "stream",
     "text": [
      "250/250 [==============================] - 0s 659us/step - loss: 0.3238 - accuracy: 0.8675\n",
      "Epoch 80/100\n",
      "250/250 [==============================] - 0s 663us/step - loss: 0.3241 - accuracy: 0.8611\n",
      "Epoch 81/100\n",
      "250/250 [==============================] - 0s 663us/step - loss: 0.3258 - accuracy: 0.8677\n",
      "Epoch 82/100\n",
      "250/250 [==============================] - 0s 697us/step - loss: 0.3377 - accuracy: 0.8608\n",
      "Epoch 83/100\n",
      "250/250 [==============================] - 0s 635us/step - loss: 0.3225 - accuracy: 0.8677\n",
      "Epoch 84/100\n",
      "250/250 [==============================] - 0s 654us/step - loss: 0.3246 - accuracy: 0.8714\n",
      "Epoch 85/100\n",
      "250/250 [==============================] - 0s 751us/step - loss: 0.3130 - accuracy: 0.8716\n",
      "Epoch 86/100\n",
      "250/250 [==============================] - 0s 695us/step - loss: 0.3321 - accuracy: 0.8628\n",
      "Epoch 87/100\n",
      "250/250 [==============================] - 0s 791us/step - loss: 0.3244 - accuracy: 0.8651\n",
      "Epoch 88/100\n",
      "250/250 [==============================] - 0s 657us/step - loss: 0.3274 - accuracy: 0.8653\n",
      "Epoch 89/100\n",
      "250/250 [==============================] - 0s 662us/step - loss: 0.3170 - accuracy: 0.8720\n",
      "Epoch 90/100\n",
      "250/250 [==============================] - 0s 687us/step - loss: 0.3304 - accuracy: 0.8603\n",
      "Epoch 91/100\n",
      "250/250 [==============================] - 0s 663us/step - loss: 0.3209 - accuracy: 0.8707\n",
      "Epoch 92/100\n",
      "250/250 [==============================] - 0s 675us/step - loss: 0.3206 - accuracy: 0.8673\n",
      "Epoch 93/100\n",
      "250/250 [==============================] - 0s 755us/step - loss: 0.3340 - accuracy: 0.8542\n",
      "Epoch 94/100\n",
      "250/250 [==============================] - 0s 651us/step - loss: 0.3285 - accuracy: 0.8646\n",
      "Epoch 95/100\n",
      "250/250 [==============================] - 0s 635us/step - loss: 0.3329 - accuracy: 0.8628\n",
      "Epoch 96/100\n",
      "250/250 [==============================] - 0s 650us/step - loss: 0.3259 - accuracy: 0.8643\n",
      "Epoch 97/100\n",
      "250/250 [==============================] - 0s 704us/step - loss: 0.3287 - accuracy: 0.8622\n",
      "Epoch 98/100\n",
      "250/250 [==============================] - 0s 675us/step - loss: 0.3351 - accuracy: 0.8646\n",
      "Epoch 99/100\n",
      "250/250 [==============================] - 0s 709us/step - loss: 0.3119 - accuracy: 0.8700\n",
      "Epoch 100/100\n",
      "250/250 [==============================] - 0s 663us/step - loss: 0.3261 - accuracy: 0.8634\n"
     ]
    },
    {
     "data": {
      "text/plain": [
       "<tensorflow.python.keras.callbacks.History at 0x19af90bc220>"
      ]
     },
     "execution_count": 15,
     "metadata": {},
     "output_type": "execute_result"
    }
   ],
   "source": [
    "ann.fit(x_train, y_train, batch_size=32, epochs = 100)"
   ]
  },
  {
   "cell_type": "code",
   "execution_count": 16,
   "id": "e8b516da",
   "metadata": {},
   "outputs": [
    {
     "name": "stdout",
     "output_type": "stream",
     "text": [
      "[[False]]\n"
     ]
    }
   ],
   "source": [
    "print(ann.predict(sc.transform([[1, 0, 0, 600, 1, 40, 3, 60000, 2, 1, 1, 50000]])) > 0.5)"
   ]
  },
  {
   "cell_type": "code",
   "execution_count": 17,
   "id": "4079d964",
   "metadata": {},
   "outputs": [
    {
     "name": "stdout",
     "output_type": "stream",
     "text": [
      "[[0 0]\n",
      " [0 1]\n",
      " [0 0]\n",
      " ...\n",
      " [0 0]\n",
      " [0 0]\n",
      " [0 0]]\n"
     ]
    }
   ],
   "source": [
    "y_pred = ann.predict(x_test)\n",
    "y_pred = (y_pred > 0.5)\n",
    "print(np.concatenate((y_pred.reshape(len(y_pred),1), y_test.reshape(len(y_test),1)),1))"
   ]
  },
  {
   "cell_type": "code",
   "execution_count": 18,
   "id": "9883270c",
   "metadata": {},
   "outputs": [
    {
     "name": "stdout",
     "output_type": "stream",
     "text": [
      "[[1529   66]\n",
      " [ 203  202]]\n"
     ]
    },
    {
     "data": {
      "text/plain": [
       "0.8655"
      ]
     },
     "execution_count": 18,
     "metadata": {},
     "output_type": "execute_result"
    }
   ],
   "source": [
    "from sklearn.metrics import confusion_matrix, accuracy_score\n",
    "cm = confusion_matrix(y_test, y_pred)\n",
    "print(cm)\n",
    "accuracy_score(y_test, y_pred)"
   ]
  },
  {
   "cell_type": "code",
   "execution_count": null,
   "id": "a29a687b",
   "metadata": {},
   "outputs": [],
   "source": []
  }
 ],
 "metadata": {
  "kernelspec": {
   "display_name": "Python 3",
   "language": "python",
   "name": "python3"
  },
  "language_info": {
   "codemirror_mode": {
    "name": "ipython",
    "version": 3
   },
   "file_extension": ".py",
   "mimetype": "text/x-python",
   "name": "python",
   "nbconvert_exporter": "python",
   "pygments_lexer": "ipython3",
   "version": "3.8.3"
  }
 },
 "nbformat": 4,
 "nbformat_minor": 5
}
